{
 "cells": [
  {
   "cell_type": "code",
   "execution_count": null,
   "id": "3f123206-d375-42c9-b1c2-73678666802e",
   "metadata": {},
   "outputs": [],
   "source": [
    "import sys, os\n",
    "import pandas as pd\n",
    "import numpy as np\n",
    "sys.path.append(str(_dh[0]) +'/Source')\n",
    "from SafeBoundUtils import *\n",
    "from JoinGraphUtils import *"
   ]
  },
  {
   "cell_type": "code",
   "execution_count": null,
   "id": "a45376c8-f961-4219-9dc0-1f72103ff685",
   "metadata": {},
   "outputs": [],
   "source": [
    "R = pd.DataFrame()\n",
    "R[\"X\"] = np.random.randint(1, 100, 1000)\n",
    "S = pd.DataFrame()\n",
    "S[\"X\"] = np.random.randint(1, 100, 3000)\n",
    "S[\"Y\"] = np.random.randint(1, 1000, 3000)\n",
    "T = pd.DataFrame()\n",
    "T[\"Y\"] = np.array(range(0,1000))\n",
    "T[\"A\"] =  np.random.randint(1, 100, 1000)\n",
    "\n",
    "tableDFs = [R, S, T]\n",
    "tableNames = [\"R\", \"S\", \"T\"]\n",
    "tableJoinCols = [[\"X\"], [\"X\", \"Y\"], [\"Y\"]]\n",
    "filterColumns = [[], [], [\"A\"]]\n",
    "FKtoKDict = {\"S\": [[\"Y\", \"T\", \"Y\"]]}  # S has a FK-PK relationship with T on the attribute Y\n",
    "trueCardinality = len(R.merge(S, on=\"X\").merge(T[T[\"A\"]<20], on=\"Y\"))\n",
    "\n",
    "# Building the statistics object\n",
    "safeBound = SafeBound(tableDFs=tableDFs, tableNames=tableNames, tableJoinCols=tableJoinCols, relativeErrorPerSegment=.01, originalFilterCols=filterColumns, FKtoKDict=FKtoKDict, numCores=2)"
   ]
  },
  {
   "cell_type": "code",
   "execution_count": null,
   "id": "ed3388a6-d6ea-4cd6-93c0-c69719f7a38a",
   "metadata": {},
   "outputs": [],
   "source": [
    "# Defining a query\n",
    "query = JoinQueryGraph()\n",
    "query.addJoin(\"R\",\"X\",\"S\", \"X\")\n",
    "query.addJoin(\"S\",\"Y\",\"T\", \"Y\")\n",
    "query.addPredicate(\"T\",\"A\",\"<\", 20)\n",
    "query.buildJoinGraph()\n",
    "query.printJoinGraph()"
   ]
  },
  {
   "cell_type": "code",
   "execution_count": null,
   "id": "ce03a191-49ff-4988-9a66-c2708d290dd8",
   "metadata": {},
   "outputs": [],
   "source": [
    "bound = safeBound.functionalFrequencyBound(query)\n",
    "print(\"True Cardinality: \" + str(trueCardinality))\n",
    "print(\"Cardinality Bound: \" + str(bound))\n",
    "print(\"SafeBound Memory (kB): \" + str(safeBound.memory()/1000))"
   ]
  },
  {
   "cell_type": "code",
   "execution_count": null,
   "id": "a248bc8f-4224-4fce-95d2-f229bc17c603",
   "metadata": {},
   "outputs": [],
   "source": []
  },
  {
   "cell_type": "code",
   "execution_count": null,
   "id": "7d81b188-cff2-46ae-bcdd-e379cdf86910",
   "metadata": {},
   "outputs": [],
   "source": []
  }
 ],
 "metadata": {
  "kernelspec": {
   "display_name": "Python 3 (ipykernel)",
   "language": "python",
   "name": "python3"
  },
  "language_info": {
   "codemirror_mode": {
    "name": "ipython",
    "version": 3
   },
   "file_extension": ".py",
   "mimetype": "text/x-python",
   "name": "python",
   "nbconvert_exporter": "python",
   "pygments_lexer": "ipython3",
   "version": "3.10.4"
  }
 },
 "nbformat": 4,
 "nbformat_minor": 5
}
