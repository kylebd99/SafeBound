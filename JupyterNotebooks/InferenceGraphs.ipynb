{
 "cells": [
  {
   "cell_type": "code",
   "execution_count": 1,
   "id": "e6b192fc-7193-449f-8b98-5c5cfc1a86d7",
   "metadata": {},
   "outputs": [],
   "source": [
    "import pandas as pd\n",
    "import matplotlib.pyplot as plt\n",
    "import numpy as np\n",
    "import seaborn as sn\n",
    "import numpy as np\n",
    "from matplotlib.patches import PathPatch\n",
    "\n",
    "def adjust_box_widths(g, fac):\n",
    "    \"\"\"\n",
    "    Adjust the widths of a seaborn-generated boxplot.\n",
    "    \"\"\"\n",
    "\n",
    "    # iterating through Axes instances\n",
    "    for ax in g.axes:\n",
    "\n",
    "        # iterating through axes artists:\n",
    "        for c in ax.get_children():\n",
    "\n",
    "            # searching for PathPatches\n",
    "            if isinstance(c, PathPatch):\n",
    "                # getting current width of box:\n",
    "                p = c.get_path()\n",
    "                verts = p.vertices\n",
    "                verts_sub = verts[:-1]\n",
    "                xmin = np.min(verts_sub[:, 0])\n",
    "                xmax = np.max(verts_sub[:, 0])\n",
    "                xmid = 0.5*(xmin+xmax)\n",
    "                xhalf = 0.5*(xmax - xmin)\n",
    "\n",
    "                # setting new width of box\n",
    "                xmin_new = xmid-fac*xhalf\n",
    "                xmax_new = xmid+fac*xhalf\n",
    "                verts_sub[verts_sub[:, 0] == xmin, 0] = xmin_new\n",
    "                verts_sub[verts_sub[:, 0] == xmax, 0] = xmax_new\n",
    "\n",
    "                # setting new width of median line\n",
    "                for l in ax.lines:\n",
    "                    if np.all(l.get_xdata() == [xmin, xmax]):\n",
    "                        l.set_xdata([xmin_new, xmax_new])"
   ]
  },
  {
   "cell_type": "code",
   "execution_count": 2,
   "id": "13f23aca-7db0-4661-bc23-e0e175422f59",
   "metadata": {},
   "outputs": [],
   "source": [
    "methods = [\"Postgres\", \"SafeBound\"]\n",
    "#benchmarks = ['JOBLight','JOBLightRanges', \"JOBM\", \"Stats\"]\n",
    "benchmarks = ['JOBLight','JOBLightRanges', \"Stats\"]\n",
    "runs = list(range(1,6))\n",
    "inferenceResults = {method : {benchmark : dict() for benchmark in benchmarks} for method in methods}\n",
    "rootFileDirectory = \"/mnt/ExtraDrive1/SafeBound/Data/Results/\"\n",
    "for method in methods:\n",
    "    for benchmark in benchmarks:\n",
    "        for run in runs:\n",
    "            querySize = pd.read_csv(rootFileDirectory + benchmark+\"_Sizes.csv\")\n",
    "            resultFile = None\n",
    "            if method == 'SafeBound':\n",
    "                resultFile = rootFileDirectory + method + \"_Inference_\" + str(run) + \"_\" + benchmark + \".csv\"\n",
    "                if benchmark in []:\n",
    "                    resultData = pd.DataFrame()\n",
    "                    inferenceResults[method][benchmark][run] = resultData\n",
    "                    continue\n",
    "            elif method == 'Postgres':\n",
    "                resultFile = rootFileDirectory + method + \"_Inference_\" +  str(run) + \"_\" + benchmark + \".csv\"\n",
    "                if benchmark in [\"\"]:\n",
    "                    resultData = pd.DataFrame()\n",
    "                    inferenceResults[method][benchmark][run] = resultData\n",
    "                    continue\n",
    "\n",
    "\n",
    "            resultData = pd.read_csv(resultFile)\n",
    "            resultData = resultData.merge(querySize, on='QueryLabel')\n",
    "            resultData[\"JoinSize\"] = resultData[\"JoinSize\"].astype(float)\n",
    "            resultData[\"Estimate\"] =  resultData[\"Estimate\"].astype(float)\n",
    "            resultData[\"RelativeError\"] = resultData[\"Estimate\"]/resultData[\"JoinSize\"]\n",
    "            resultData[\"QError\"] = np.maximum(resultData[\"RelativeError\"], 1./resultData[\"RelativeError\"])\n",
    "            resultData[\"Benchmark\"] = benchmark\n",
    "            resultData[\"Method\"] = method\n",
    "            resultData[\"Run\"] = run\n",
    "            inferenceResults[method][benchmark][run] = resultData\n",
    "            "
   ]
  },
  {
   "cell_type": "code",
   "execution_count": 3,
   "id": "021df95b-9767-4b38-8b8e-2fd054bc0929",
   "metadata": {
    "tags": []
   },
   "outputs": [],
   "source": [
    "allData = pd.concat([inferenceResults[method][benchmark][run] for method in methods for benchmark in benchmarks for run in runs])"
   ]
  },
  {
   "cell_type": "code",
   "execution_count": 4,
   "id": "07340e3f-6d4d-4f6e-8cce-32a7e3f86ac1",
   "metadata": {},
   "outputs": [],
   "source": [
    "p05Error = allData.groupby(['Method', 'Benchmark', 'Run']).quantile(.05)\n",
    "p50Error = allData.groupby(['Method', 'Benchmark', 'Run']).quantile(.50)\n",
    "p95Error = allData.groupby(['Method', 'Benchmark', 'Run']).quantile(.95)\n",
    "topLineData = p05Error.join(p50Error[\"RelativeError\"], lsuffix=\"p05\",rsuffix=\"p50\").join(p95Error[\"RelativeError\"])\n",
    "topLineData[\"RelativeErrorp95\"] = topLineData[\"RelativeError\"]\n",
    "topLineData = topLineData.reset_index()"
   ]
  },
  {
   "cell_type": "code",
   "execution_count": 5,
   "id": "618f0d90-ddbd-4bdc-86d5-731f01fdd0eb",
   "metadata": {},
   "outputs": [
    {
     "data": {
      "text/html": [
       "<div>\n",
       "<style scoped>\n",
       "    .dataframe tbody tr th:only-of-type {\n",
       "        vertical-align: middle;\n",
       "    }\n",
       "\n",
       "    .dataframe tbody tr th {\n",
       "        vertical-align: top;\n",
       "    }\n",
       "\n",
       "    .dataframe thead th {\n",
       "        text-align: right;\n",
       "    }\n",
       "</style>\n",
       "<table border=\"1\" class=\"dataframe\">\n",
       "  <thead>\n",
       "    <tr style=\"text-align: right;\">\n",
       "      <th></th>\n",
       "      <th></th>\n",
       "      <th>RelativeErrorp05</th>\n",
       "      <th>RelativeErrorp50</th>\n",
       "      <th>RelativeErrorp95</th>\n",
       "    </tr>\n",
       "    <tr>\n",
       "      <th>Method</th>\n",
       "      <th>Benchmark</th>\n",
       "      <th></th>\n",
       "      <th></th>\n",
       "      <th></th>\n",
       "    </tr>\n",
       "  </thead>\n",
       "  <tbody>\n",
       "    <tr>\n",
       "      <th rowspan=\"3\" valign=\"top\">Postgres</th>\n",
       "      <th>JOBLight</th>\n",
       "      <td>0.001410</td>\n",
       "      <td>0.112200</td>\n",
       "      <td>1.335873</td>\n",
       "    </tr>\n",
       "    <tr>\n",
       "      <th>JOBLightRanges</th>\n",
       "      <td>0.000606</td>\n",
       "      <td>0.082373</td>\n",
       "      <td>2.874670</td>\n",
       "    </tr>\n",
       "    <tr>\n",
       "      <th>Stats</th>\n",
       "      <td>0.007681</td>\n",
       "      <td>1.041534</td>\n",
       "      <td>756.815354</td>\n",
       "    </tr>\n",
       "    <tr>\n",
       "      <th rowspan=\"3\" valign=\"top\">SafeBound</th>\n",
       "      <th>JOBLight</th>\n",
       "      <td>2.272742</td>\n",
       "      <td>21.401080</td>\n",
       "      <td>2507.835798</td>\n",
       "    </tr>\n",
       "    <tr>\n",
       "      <th>JOBLightRanges</th>\n",
       "      <td>4.303409</td>\n",
       "      <td>159.153388</td>\n",
       "      <td>20626.212719</td>\n",
       "    </tr>\n",
       "    <tr>\n",
       "      <th>Stats</th>\n",
       "      <td>1.733568</td>\n",
       "      <td>55.347124</td>\n",
       "      <td>7775.377644</td>\n",
       "    </tr>\n",
       "  </tbody>\n",
       "</table>\n",
       "</div>"
      ],
      "text/plain": [
       "                          RelativeErrorp05  RelativeErrorp50  RelativeErrorp95\n",
       "Method    Benchmark                                                           \n",
       "Postgres  JOBLight                0.001410          0.112200          1.335873\n",
       "          JOBLightRanges          0.000606          0.082373          2.874670\n",
       "          Stats                   0.007681          1.041534        756.815354\n",
       "SafeBound JOBLight                2.272742         21.401080       2507.835798\n",
       "          JOBLightRanges          4.303409        159.153388      20626.212719\n",
       "          Stats                   1.733568         55.347124       7775.377644"
      ]
     },
     "execution_count": 5,
     "metadata": {},
     "output_type": "execute_result"
    }
   ],
   "source": [
    "topLineData[((topLineData[\"Method\"]==\"SafeBound\") & (topLineData[\"Run\"]==4)) | ((topLineData[\"Method\"]==\"Postgres\")& (topLineData[\"Run\"]==2))| ((topLineData[\"Method\"]==\"Postgres2D\")& (topLineData[\"Run\"]==2))| ((~topLineData[\"Method\"].isin([\"Postgres\", \"SafeBound\", \"Postgres2D\"])))].groupby([\"Method\", \"Benchmark\"]).mean()[['RelativeErrorp05','RelativeErrorp50','RelativeErrorp95']]"
   ]
  },
  {
   "cell_type": "code",
   "execution_count": 12,
   "id": "6c21ab9e-df7a-4bdc-8e58-ba7dd8bccd3e",
   "metadata": {},
   "outputs": [
    {
     "name": "stderr",
     "output_type": "stream",
     "text": [
      "/tmp/ipykernel_288392/1640285409.py:38: DeprecationWarning: elementwise comparison failed; this will raise an error in the future.\n",
      "  if np.all(l.get_xdata() == [xmin, xmax]):\n"
     ]
    },
    {
     "data": {
      "image/png": "[encoded data removed]",
      "text/plain": [
       "<Figure size 971x500 with 1 Axes>"
      ]
     },
     "metadata": {},
     "output_type": "display_data"
    }
   ],
   "source": [
    "hueOrder =['SafeBound', \"TrueCardinality\", 'Postgres']\n",
    "palette = [\"C1\", \"C7\", \"C0\", \"C2\", \"C5\", \"C4\", \"C6\"]\n",
    "sn.set(font_scale = 1.3)\n",
    "runData = allData[((allData[\"Method\"]=='SafeBound')&(allData[\"Run\"]==4))|((allData[\"Method\"].isin(['Postgres']))&(allData[\"Run\"]==2))]\n",
    "inferencePlot = sn.catplot(x='Benchmark', y='RelativeError', hue='Method', kind='box', data=runData, height=5, aspect = 6/4, width=.8,palette=palette, hue_order=hueOrder)\n",
    "inferencePlot.set(yscale='log', xlabel=\"\", ylim=[10**-7.5, 10**11.5])\n",
    "inferencePlot.map(plt.axhline, y=1, ls='--', c='grey')\n",
    "adjust_box_widths(inferencePlot.figure, 0.8)"
   ]
  },
  {
   "cell_type": "code",
   "execution_count": null,
   "id": "a5f63c6c",
   "metadata": {},
   "outputs": [],
   "source": []
  }
 ],
 "metadata": {
  "kernelspec": {
   "display_name": "Python 3 (ipykernel)",
   "language": "python",
   "name": "python3"
  },
  "language_info": {
   "codemirror_mode": {
    "name": "ipython",
    "version": 3
   },
   "file_extension": ".py",
   "mimetype": "text/x-python",
   "name": "python",
   "nbconvert_exporter": "python",
   "pygments_lexer": "ipython3",
   "version": "3.10.4"
  }
 },
 "nbformat": 4,
 "nbformat_minor": 5
}
