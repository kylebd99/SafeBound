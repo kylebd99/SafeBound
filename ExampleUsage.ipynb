{
 "cells": [
  {
   "cell_type": "code",
   "execution_count": 2,
   "id": "3f123206-d375-42c9-b1c2-73678666802e",
   "metadata": {},
   "outputs": [],
   "source": [
    "import sys, os\n",
    "import pandas as pd\n",
    "import numpy as np\n",
    "from SafeBoundUtils import *\n",
    "from JoinGraphUtils import *"
   ]
  },
  {
   "cell_type": "code",
   "execution_count": 2,
   "id": "a45376c8-f961-4219-9dc0-1f72103ff685",
   "metadata": {},
   "outputs": [
    {
     "ename": "",
     "evalue": "",
     "output_type": "error",
     "traceback": [
      "\u001b[1;31mCannot execute code, session has been disposed. Please try restarting the Kernel."
     ]
    },
    {
     "ename": "",
     "evalue": "",
     "output_type": "error",
     "traceback": [
      "\u001b[1;31mThe Kernel crashed while executing code in the the current cell or a previous cell. Please review the code in the cell(s) to identify a possible cause of the failure. Click <a href='https://aka.ms/vscodeJupyterKernelCrash'>here</a> for more info. View Jupyter <a href='command:jupyter.viewOutput'>log</a> for further details."
     ]
    }
   ],
   "source": [
    "R = pd.DataFrame()\n",
    "R[\"X\"] = np.random.randint(1, 100, 1000)\n",
    "S = pd.DataFrame()\n",
    "S[\"X\"] = np.random.randint(1, 100, 3000)\n",
    "S[\"Y\"] = np.random.randint(1, 1000, 3000)\n",
    "T = pd.DataFrame()\n",
    "T[\"Y\"] = np.array(range(0,1000))\n",
    "T[\"A\"] =  np.random.randint(1, 100, 1000)\n",
    "\n",
    "tableDFs = [R, S, T]\n",
    "tableNames = [\"R\", \"S\", \"T\"]\n",
    "tableJoinCols = [[\"X\"], [\"X\", \"Y\"], [\"Y\"]]\n",
    "filterColumns = [[], [], [\"A\"]]\n",
    "FKtoKDict = {\"S\": [[\"Y\", \"T\", \"Y\"]]}  # S has a FK-PK relationship with T on the attribute Y\n",
    "trueCardinality = len(R.merge(S, on=\"X\").merge(T[T[\"A\"]<20], on=\"Y\"))\n",
    "\n",
    "# Building the statistics object\n",
    "safeBound = SafeBound(tableDFs=tableDFs, tableNames=tableNames, tableJoinCols=tableJoinCols, relativeErrorPerSegment=.01, originalFilterCols=filterColumns, FKtoKDict=FKtoKDict, numCores=2)"
   ]
  },
  {
   "cell_type": "code",
   "execution_count": 5,
   "id": "ed3388a6-d6ea-4cd6-93c0-c69719f7a38a",
   "metadata": {},
   "outputs": [
    {
     "name": "stdout",
     "output_type": "stream",
     "text": [
      "R is the 1th joined table with predicates: \n",
      "R joins with S on column X\n",
      "S is the 2th joined table with predicates: \n",
      "S joins with R on column X\n",
      "S joins with T on column Y\n",
      "T is the 3th joined table with predicates: A < 20 \n",
      "T joins with S on column Y\n"
     ]
    }
   ],
   "source": [
    "# Defining a query\n",
    "query = JoinQueryGraph()\n",
    "query.addJoin(\"R\",\"X\",\"S\", \"X\")\n",
    "query.addJoin(\"S\",\"Y\",\"T\", \"Y\")\n",
    "query.addPredicate(\"T\",\"A\",\"<\", 20)\n",
    "query.buildJoinGraph()\n",
    "query.printJoinGraph()"
   ]
  },
  {
   "cell_type": "code",
   "execution_count": 6,
   "id": "ce03a191-49ff-4988-9a66-c2708d290dd8",
   "metadata": {},
   "outputs": [
    {
     "ename": "NameError",
     "evalue": "name 'safeBound' is not defined",
     "output_type": "error",
     "traceback": [
      "\u001b[0;31m---------------------------------------------------------------------------\u001b[0m",
      "\u001b[0;31mNameError\u001b[0m                                 Traceback (most recent call last)",
      "\u001b[1;32m/mnt/ExtraDrive1/SafeBound/ExampleUsage.ipynb Cell 4\u001b[0m in \u001b[0;36m<cell line: 1>\u001b[0;34m()\u001b[0m\n\u001b[0;32m----> <a href='vscode-notebook-cell:/mnt/ExtraDrive1/SafeBound/ExampleUsage.ipynb#W3sZmlsZQ%3D%3D?line=0'>1</a>\u001b[0m bound \u001b[39m=\u001b[39m safeBound\u001b[39m.\u001b[39mfunctionalFrequencyBound(query)\n\u001b[1;32m      <a href='vscode-notebook-cell:/mnt/ExtraDrive1/SafeBound/ExampleUsage.ipynb#W3sZmlsZQ%3D%3D?line=1'>2</a>\u001b[0m \u001b[39mprint\u001b[39m(\u001b[39m\"\u001b[39m\u001b[39mTrue Cardinality: \u001b[39m\u001b[39m\"\u001b[39m \u001b[39m+\u001b[39m \u001b[39mstr\u001b[39m(trueCardinality))\n\u001b[1;32m      <a href='vscode-notebook-cell:/mnt/ExtraDrive1/SafeBound/ExampleUsage.ipynb#W3sZmlsZQ%3D%3D?line=2'>3</a>\u001b[0m \u001b[39mprint\u001b[39m(\u001b[39m\"\u001b[39m\u001b[39mCardinality Bound: \u001b[39m\u001b[39m\"\u001b[39m \u001b[39m+\u001b[39m \u001b[39mstr\u001b[39m(bound))\n",
      "\u001b[0;31mNameError\u001b[0m: name 'safeBound' is not defined"
     ]
    }
   ],
   "source": [
    "bound = safeBound.functionalFrequencyBound(query)\n",
    "print(\"True Cardinality: \" + str(trueCardinality))\n",
    "print(\"Cardinality Bound: \" + str(bound))\n",
    "print(\"SafeBound Memory (kB): \" + str(safeBound.memory()/1000))"
   ]
  },
  {
   "cell_type": "code",
   "execution_count": null,
   "id": "a248bc8f-4224-4fce-95d2-f229bc17c603",
   "metadata": {},
   "outputs": [],
   "source": []
  },
  {
   "cell_type": "code",
   "execution_count": null,
   "id": "7d81b188-cff2-46ae-bcdd-e379cdf86910",
   "metadata": {},
   "outputs": [],
   "source": []
  }
 ],
 "metadata": {
  "kernelspec": {
   "display_name": "Python 3 (ipykernel)",
   "language": "python",
   "name": "python3"
  },
  "language_info": {
   "codemirror_mode": {
    "name": "ipython",
    "version": 3
   },
   "file_extension": ".py",
   "mimetype": "text/x-python",
   "name": "python",
   "nbconvert_exporter": "python",
   "pygments_lexer": "ipython3",
   "version": "3.10.4"
  }
 },
 "nbformat": 4,
 "nbformat_minor": 5
}
